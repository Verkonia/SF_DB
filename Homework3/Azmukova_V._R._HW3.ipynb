{
 "cells": [
  {
   "cell_type": "markdown",
   "metadata": {},
   "source": [
    "## Домашняя работа №2\n",
    "\n",
    "SQL- скрипт представлен [здесь](https://github.com/Verkonia/SF_DB/blob/master/Homework2/HW2.sql). Для пунктов 3 и 4 представлены два варианта, т.к. не совсем было понятно, какой итог нужен\n",
    "\n",
    "Итоги по каждому пункту:\n",
    "\n",
    "**1. Вывести все уникальные бренды, у которых стандартная стоимость выше 1500 долларов.**\n",
    "\n",
    "![](https://github.com/Verkonia/SF_DB/blob/master/Homework2/1.JPG?raw=true)"
   ]
  },
  {
   "cell_type": "markdown",
   "metadata": {},
   "source": [
    "**2. Вывести все подтвержденные транзакции за период '2017-04-01' по '2017-04-09' включительно.**\n",
    "\n",
    "![](https://github.com/Verkonia/SF_DB/blob/master/Homework2/2.JPG?raw=true)"
   ]
  },
  {
   "cell_type": "markdown",
   "metadata": {},
   "source": [
    "**3.  Вывести все профессии у клиентов из сферы IT или Financial Services, которые начинаются с фразы 'Senior'.**\n",
    "\n",
    "Если просто вывести все профессии, то будет так:\n",
    "\n",
    "![](https://github.com/Verkonia/SF_DB/blob/master/Homework2/3.1.JPG?raw=true)\n",
    "\n",
    "Если вывести список всех профессий, исключая повторы, то будет так:\n",
    "![](https://github.com/Verkonia/SF_DB/blob/master/Homework2/3.2.JPG?raw=true)\n"
   ]
  },
  {
   "cell_type": "markdown",
   "metadata": {},
   "source": [
    "**4. Вывести все бренды, которые закупают клиенты, работающие в сфере Financial Services**\n",
    "\n",
    "(пункт тоже остался под вопросом, поэтому представлены два варианта, так же два запроса sql)\n",
    "\n",
    "Просто все бренды:\n",
    "![](https://github.com/Verkonia/SF_DB/blob/master/Homework2/4.1.JPG?raw=true)\n",
    "\n",
    "Список без дубликатов:\n",
    "![](https://github.com/Verkonia/SF_DB/blob/master/Homework2/4.2.JPG?raw=true)"
   ]
  },
  {
   "cell_type": "markdown",
   "metadata": {},
   "source": [
    "**5. Вывести 10 клиентов, которые оформили онлайн-заказ продукции из брендов 'Giant Bicycles', 'Norco Bicycles', 'Trek Bicycles'.**\n",
    "\n",
    "![](https://github.com/Verkonia/SF_DB/blob/master/Homework2/5.JPG?raw=true)"
   ]
  },
  {
   "cell_type": "markdown",
   "metadata": {},
   "source": [
    "**6.Вывести всех клиентов, у которых нет транзакций**\n",
    "![](https://github.com/Verkonia/SF_DB/blob/master/Homework2/6.JPG?raw=true)"
   ]
  },
  {
   "cell_type": "markdown",
   "metadata": {},
   "source": [
    "**7. Вывести всех клиентов из IT, у которых транзакции с максимальной стандартной стоимостью.**\n",
    "\n",
    "![](https://github.com/Verkonia/SF_DB/blob/master/Homework2/7.JPG?raw=true)"
   ]
  },
  {
   "cell_type": "markdown",
   "metadata": {},
   "source": [
    "**8. Вывести всех клиентов из сферы IT и Health, у которых есть подтвержденные транзакции за период '2017-07-07' по '2017-07-17'.**\n",
    "\n",
    "![](https://github.com/Verkonia/SF_DB/blob/master/Homework2/8.JPG?raw=true)"
   ]
  }
 ],
 "metadata": {
  "language_info": {
   "name": "python"
  }
 },
 "nbformat": 4,
 "nbformat_minor": 2
}
