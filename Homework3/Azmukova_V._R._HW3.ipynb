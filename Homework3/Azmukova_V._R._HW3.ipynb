{
 "cells": [
  {
   "cell_type": "markdown",
   "metadata": {},
   "source": [
    "## Домашняя работа №3\n",
    "\n",
    "SQL- скрипт представлен [здесь](https://github.com/Verkonia/SF_DB/blob/master/Homework3/Script_HW3.sql). \n",
    "\n",
    "Итоги по каждому пункту:\n",
    "\n",
    "**1. Вывести распределение (количество) клиентов по сферам деятельности, отсортировав результат по убыванию количества.**\n",
    "\n",
    "![](https://github.com/Verkonia/SF_DB/blob/master/Homework3/1.JPG?raw=true)"
   ]
  },
  {
   "cell_type": "markdown",
   "metadata": {},
   "source": [
    "**2. Найти сумму транзакций за каждый месяц по сферам деятельности, отсортировав по месяцам и по сфере деятельности.**\n",
    "\n",
    "![](https://github.com/Verkonia/SF_DB/blob/master/Homework3/2.JPG?raw=true)"
   ]
  },
  {
   "cell_type": "markdown",
   "metadata": {},
   "source": [
    "**3.Вывести количество онлайн-заказов для всех брендов в рамках подтвержденных заказов клиентов из сферы IT.**\n",
    "\n",
    "\n",
    "![](https://github.com/Verkonia/SF_DB/blob/master/Homework3/3.JPG?raw=true)\n"
   ]
  },
  {
   "cell_type": "markdown",
   "metadata": {},
   "source": [
    "**4.Найти по всем клиентам сумму всех транзакций (list_price), максимум, минимум и количество транзакций, отсортировав результат по убыванию суммы транзакций и количества клиентов.**\n",
    "\n",
    "4.1  group by\n",
    "\n",
    "![](https://github.com/Verkonia/SF_DB/blob/master/Homework3/4.1.JPG?raw=true)\n",
    "\n",
    "4.2 оконные функции\n",
    "\n",
    "![](https://github.com/Verkonia/SF_DB/blob/master/Homework3/4.2.JPG?raw=true)\n",
    "\n",
    "При использовании оконных функции количество записей получилось почти в 6 раз больше; это связано со спецификой работы оконных функций"
   ]
  },
  {
   "cell_type": "markdown",
   "metadata": {},
   "source": [
    "**5. Найти имена и фамилии клиентов с минимальной/максимальной суммой транзакций за весь период (сумма транзакций не может быть null).**\n",
    "\n",
    "5.1 Для максимальной суммы\n",
    "\n",
    "![](https://github.com/Verkonia/SF_DB/blob/master/Homework3/5.1.JPG?raw=true)\n",
    "\n",
    "5.1 Для минимальной суммы\n",
    "\n",
    "![](https://github.com/Verkonia/SF_DB/blob/master/Homework3/5.2.JPG?raw=true)"
   ]
  },
  {
   "cell_type": "markdown",
   "metadata": {},
   "source": [
    "**6.Вывести только самые первые транзакции клиентов. Решить с помощью оконных функций.**\n",
    "\n",
    "![](https://github.com/Verkonia/SF_DB/blob/master/Homework3/6.JPG?raw=true)"
   ]
  },
  {
   "cell_type": "markdown",
   "metadata": {},
   "source": [
    "**7.Вывести имена, фамилии и профессии клиентов, между транзакциями которых был максимальный интервал (интервал вычисляется в днях).**\n",
    "\n",
    "![](https://github.com/Verkonia/SF_DB/blob/master/Homework3/7.JPG?raw=true)"
   ]
  }
 ],
 "metadata": {
  "language_info": {
   "name": "python"
  }
 },
 "nbformat": 4,
 "nbformat_minor": 2
}
